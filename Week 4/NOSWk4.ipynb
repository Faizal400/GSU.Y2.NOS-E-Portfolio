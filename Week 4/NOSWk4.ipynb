{
 "cells": [
  {
   "cell_type": "code",
   "execution_count": null,
   "id": "437d8d78-48a2-4198-9748-a80815a94ed6",
   "metadata": {},
   "outputs": [],
   "source": [
    "# Excersise 1,2,3,4"
   ]
  },
  {
   "cell_type": "code",
   "execution_count": null,
   "id": "3747558e-95dc-4c0f-8c82-f5698d908a01",
   "metadata": {},
   "outputs": [
    {
     "name": "stdout",
     "output_type": "stream",
     "text": [
      "UDP Server is ready to receive API data...\n"
     ]
    }
   ],
   "source": [
    "import socket\n",
    "\n",
    "server_socket = socket.socket(socket.AF_INET, socket.SOCK_DGRAM)\n",
    "server_socket.bind(('localhost', 65433))\n",
    "print(\"UDP Server is ready to receive API data...\")\n",
    "def decipher_caesarMsg(message, key):\n",
    "    new_message = []\n",
    "    for letter in message:\n",
    "        character = ord(letter)\n",
    "        character = character - key\n",
    "        new_message.append(chr(character))\n",
    "    return \"\".join(new_message)\n",
    "\n",
    "\n",
    "\n",
    "while True:\n",
    "    #receive data from client\n",
    "    data, client_address = server_socket.recvfrom(2048) #max 2048 bytes\n",
    "    message = data.decode('utf-8')  #from bytes to string\n",
    "    print(f\"Received data from {client_address}: {data.decode()}\")    \n",
    "\n",
    "    try:\n",
    "        user_info, encrypted_message, key_str = message.split(\":\")\n",
    "        key = int(key_str) \n",
    "        decrypted_message = decipher_caesarMsg(encrypted_message.strip(), key) #decrypt msg encrypted by casesar cipher\n",
    "        print(f\"Decrypted message from {user_info.strip()}: {decrypted_message}\")\n",
    "    except ValueError:\n",
    "        print(\"Invalid fomrat\")"
   ]
  },
  {
   "cell_type": "code",
   "execution_count": null,
   "id": "8ca7b207-bb3b-48c0-b597-178f90458a42",
   "metadata": {},
   "outputs": [],
   "source": [
    "# Client"
   ]
  },
  {
   "cell_type": "code",
   "execution_count": null,
   "id": "882b0c9a-f917-4b3c-b8e8-b715c357454d",
   "metadata": {},
   "outputs": [],
   "source": [
    "import socket\n",
    "import re\n",
    "\n",
    "def validate_password(passcode):\n",
    "    warnings = []\n",
    "    if len(passcode) < 8:\n",
    "        warnings.append(\"Passcode must be at least 8 characters long.\")\n",
    "    if not re.search(r'[~></?\\!@#$,%]', passcode):\n",
    "        warnings.append(\"Passcode must include at least one special character.\")\n",
    "    if not re.search(r'[A-Z]', passcode):\n",
    "        warnings.append(\"Passcode must have at least one uppercase letter.\")\n",
    "    if not re.search(r'[a-z]', passcode):\n",
    "        warnings.append(\"Passcode must have at least one lowercase letter.\")\n",
    "    return warnings\n",
    "\n",
    "def encrypt_text(text, shift_value):\n",
    "    encoded_text = []\n",
    "    for char in text:\n",
    "        encoded_char = ord(char) + shift_value\n",
    "        encoded_text.append(chr(encoded_char))\n",
    "    return \"\".join(encoded_text)\n",
    "\n",
    "# Initialize UDP client socket\n",
    "udp_socket = socket.socket(socket.AF_INET, socket.SOCK_DGRAM)\n",
    "server_info = ('localhost', 65433)\n",
    "\n",
    "# User authentication process\n",
    "username = input(\"Enter your username: \").lower()\n",
    "\n",
    "while True:\n",
    "    passcode = input(\"Set your passcode: \")\n",
    "    validation_issues = validate_password(passcode)\n",
    "    \n",
    "    if validation_issues:\n",
    "        for warning in validation_issues:\n",
    "            print(warning)\n",
    "    else:\n",
    "        break\n",
    "\n",
    "user_info = {\n",
    "    \"username\": username,\n",
    "    \"local_ip\": socket.gethostbyname(socket.gethostname()),\n",
    "    \"passcode\": passcode\n",
    "}\n",
    "\n",
    "# Message sending loop\n",
    "while True:\n",
    "    try:\n",
    "        shift_key = int(input(\"Enter a shift key for encryption: \"))\n",
    "    except ValueError:\n",
    "        print(\"Invalid input! Shift key must be a number.\")\n",
    "        continue\n",
    "\n",
    "    user_message = input(\"Type your message: \")\n",
    "    encoded_message = encrypt_text(user_message, shift_key)\n",
    "\n",
    "    final_message = f\"{user_info['username']} ({user_info['local_ip']}): {encoded_message}:{shift_key}\"\n",
    "\n",
    "    # Sending encrypted message to server\n",
    "    udp_socket.sendto(final_message.encode('utf-8'), server_info)\n",
    "    print(\"Encrypted message successfully sent!\")\n",
    "\n",
    "    if user_message.lower() == \"exit\":\n",
    "        print(\"Closing chat session...\")\n",
    "        break\n",
    "\n",
    "udp_socket.close()\n"
   ]
  }
 ],
 "metadata": {
  "kernelspec": {
   "display_name": "Python 3 (ipykernel)",
   "language": "python",
   "name": "python3"
  },
  "language_info": {
   "codemirror_mode": {
    "name": "ipython",
    "version": 3
   },
   "file_extension": ".py",
   "mimetype": "text/x-python",
   "name": "python",
   "nbconvert_exporter": "python",
   "pygments_lexer": "ipython3",
   "version": "3.12.4"
  }
 },
 "nbformat": 4,
 "nbformat_minor": 5
}
