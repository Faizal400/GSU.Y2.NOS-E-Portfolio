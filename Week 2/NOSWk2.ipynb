{
 "cells": [
  {
   "cell_type": "code",
   "execution_count": null,
   "id": "176533de-7ace-4d67-83fc-95e0fe3b371c",
   "metadata": {},
   "outputs": [],
   "source": [
    "# Excersise 1 - password checker"
   ]
  },
  {
   "cell_type": "code",
   "execution_count": null,
   "id": "2b6426d6-dd90-4746-8a30-6ec0736bcdc9",
   "metadata": {},
   "outputs": [],
   "source": [
    "import re\n",
    "\n",
    "def validate_passcode():\n",
    "    passcode = input(\"Enter Your Passcode: \")\n",
    "    warnings = []\n",
    "    if len(passcode) < 8:\n",
    "        alert1 = \"Passcode must be at least 8 characters long\"\n",
    "        warnings.append(alert1)\n",
    "\n",
    "    if not re.search(r'[~></?\\!@#$,%]', passcode):\n",
    "        alert2 = \"Passcode must include at least one special character\"\n",
    "        warnings.append(alert2)\n",
    "\n",
    "    if not re.search(r'[A-Z]', passcode):\n",
    "        alert3 = \"Passcode must have at least one uppercase letter\"\n",
    "        warnings.append(alert3)\n",
    "\n",
    "    if not re.search(r'[a-z]', passcode):\n",
    "        alert4 = \"Passcode must have at least one lowercase letter\"\n",
    "        warnings.append(alert4)\n",
    "\n",
    "    for warning in warnings:\n",
    "        print(warning)\n",
    "\n",
    "validate_passcode()\n"
   ]
  },
  {
   "cell_type": "code",
   "execution_count": null,
   "id": "43670321-f836-4fb7-92d9-ae40cac47971",
   "metadata": {},
   "outputs": [],
   "source": [
    "# Excersise 2 - caesar cipher"
   ]
  },
  {
   "cell_type": "code",
   "execution_count": null,
   "id": "2147eee8-6470-423a-9b24-6b07d26137ef",
   "metadata": {},
   "outputs": [],
   "source": [
    "def caesar_cipher():\n",
    "    text = input(\"Enter the text you want to encrypt: \")\n",
    "    shift_key = int(input(\"Enter your shift key: \"))\n",
    "    encrypted_text = []\n",
    "    \n",
    "    for char in text:\n",
    "        shifted_char = ord(char) + shift_key\n",
    "        encrypted_text.append(chr(shifted_char))\n",
    "    \n",
    "    print(\"Your encrypted text is: \" + \"\".join(encrypted_text))\n",
    "\n",
    "caesar_cipher()"
   ]
  },
  {
   "cell_type": "code",
   "execution_count": null,
   "id": "f565c263-bf01-4652-9049-79ef5b78446b",
   "metadata": {},
   "outputs": [],
   "source": [
    "#  Excersise 3 - hangman"
   ]
  },
  {
   "cell_type": "code",
   "execution_count": null,
   "id": "0eb88bb4-ed45-4f5d-9511-64c4cf53476f",
   "metadata": {},
   "outputs": [
    {
     "name": "stderr",
     "output_type": "stream",
     "text": [
      "[nltk_data] Downloading package words to\n",
      "[nltk_data]     C:\\Users\\faiza\\AppData\\Roaming\\nltk_data...\n",
      "[nltk_data]   Unzipping corpora\\words.zip.\n"
     ]
    },
    {
     "name": "stdout",
     "output_type": "stream",
     "text": [
      "['_', '_', '_', '_', '_', '_', '_', '_']\n"
     ]
    },
    {
     "name": "stdin",
     "output_type": "stream",
     "text": [
      "Guess a letter:  o\n"
     ]
    },
    {
     "name": "stdout",
     "output_type": "stream",
     "text": [
      "Incorrect guess! Remaining attempts: 9\n",
      "['_', '_', '_', '_', '_', '_', '_', '_']\n"
     ]
    },
    {
     "name": "stdin",
     "output_type": "stream",
     "text": [
      "Guess a letter:  o\n"
     ]
    },
    {
     "name": "stdout",
     "output_type": "stream",
     "text": [
      "You already tried 'o'\n",
      "['_', '_', '_', '_', '_', '_', '_', '_']\n"
     ]
    },
    {
     "name": "stdin",
     "output_type": "stream",
     "text": [
      "Guess a letter:  o\n"
     ]
    },
    {
     "name": "stdout",
     "output_type": "stream",
     "text": [
      "You already tried 'o'\n",
      "['_', '_', '_', '_', '_', '_', '_', '_']\n"
     ]
    },
    {
     "name": "stdin",
     "output_type": "stream",
     "text": [
      "Guess a letter:  o\n"
     ]
    },
    {
     "name": "stdout",
     "output_type": "stream",
     "text": [
      "You already tried 'o'\n",
      "['_', '_', '_', '_', '_', '_', '_', '_']\n"
     ]
    },
    {
     "name": "stdin",
     "output_type": "stream",
     "text": [
      "Guess a letter:  o\n"
     ]
    },
    {
     "name": "stdout",
     "output_type": "stream",
     "text": [
      "You already tried 'o'\n",
      "['_', '_', '_', '_', '_', '_', '_', '_']\n"
     ]
    },
    {
     "name": "stdin",
     "output_type": "stream",
     "text": [
      "Guess a letter:  l\n"
     ]
    },
    {
     "name": "stdout",
     "output_type": "stream",
     "text": [
      "Incorrect guess! Remaining attempts: 8\n",
      "['_', '_', '_', '_', '_', '_', '_', '_']\n"
     ]
    },
    {
     "name": "stdin",
     "output_type": "stream",
     "text": [
      "Guess a letter:  k\n"
     ]
    },
    {
     "name": "stdout",
     "output_type": "stream",
     "text": [
      "Incorrect guess! Remaining attempts: 7\n",
      "['_', '_', '_', '_', '_', '_', '_', '_']\n"
     ]
    },
    {
     "name": "stdin",
     "output_type": "stream",
     "text": [
      "Guess a letter:  m\n"
     ]
    },
    {
     "name": "stdout",
     "output_type": "stream",
     "text": [
      "Incorrect guess! Remaining attempts: 6\n",
      "['_', '_', '_', '_', '_', '_', '_', '_']\n"
     ]
    }
   ],
   "source": [
    "import nltk\n",
    "from nltk.corpus import words\n",
    "import random\n",
    "\n",
    "def word_guess_game():\n",
    "    nltk.download('words')\n",
    "    vocabulary = words.words\n",
    "    hidden_word = random.choice(vocabulary()).lower()\n",
    "    \n",
    "    max_attempts = 10\n",
    "    attempts = 0\n",
    "    guessed_letters = []\n",
    "    display_word = [\"_\" for _ in hidden_word]\n",
    "\n",
    "    while attempts < max_attempts:\n",
    "        print(display_word)\n",
    "        user_input = input(\"Guess a letter: \").lower()\n",
    "\n",
    "        if len(user_input) != 1:\n",
    "            print(\"Invalid input: Please enter a single letter.\")\n",
    "            continue\n",
    "        \n",
    "        if user_input in guessed_letters:\n",
    "            print(f\"You already tried '{user_input}'\")\n",
    "            continue\n",
    "        \n",
    "        guessed_letters.append(user_input)\n",
    "\n",
    "        if user_input in hidden_word:\n",
    "            for index in range(len(hidden_word)):\n",
    "                if hidden_word[index] == user_input:\n",
    "                    display_word[index] = user_input\n",
    "            \n",
    "            if \"_\" not in display_word:\n",
    "                print(f\"Congratulations! You guessed the word: {hidden_word}\")\n",
    "                return\n",
    "        else:\n",
    "            attempts += 1\n",
    "            print(f\"Incorrect guess! Remaining attempts: {max_attempts - attempts}\")\n",
    "\n",
    "    print(f\"Game over! The correct word was: {hidden_word}\")\n",
    "\n",
    "word_guess_game()\n"
   ]
  },
  {
   "cell_type": "code",
   "execution_count": null,
   "id": "4845c63c-b0c9-4050-81f5-be192c62dfe9",
   "metadata": {},
   "outputs": [],
   "source": []
  }
 ],
 "metadata": {
  "kernelspec": {
   "display_name": "Python 3 (ipykernel)",
   "language": "python",
   "name": "python3"
  },
  "language_info": {
   "codemirror_mode": {
    "name": "ipython",
    "version": 3
   },
   "file_extension": ".py",
   "mimetype": "text/x-python",
   "name": "python",
   "nbconvert_exporter": "python",
   "pygments_lexer": "ipython3",
   "version": "3.12.4"
  }
 },
 "nbformat": 4,
 "nbformat_minor": 5
}
