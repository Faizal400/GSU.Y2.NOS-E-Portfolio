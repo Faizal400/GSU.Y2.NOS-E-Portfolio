{
 "cells": [
  {
   "cell_type": "code",
   "execution_count": null,
   "id": "df2c8e8f-c0c0-4837-ada5-526cd96bd12d",
   "metadata": {},
   "outputs": [],
   "source": [
    "# Excersise 1"
   ]
  },
  {
   "cell_type": "code",
   "execution_count": null,
   "id": "d4ce744b-3b23-4b0d-9819-de9001135615",
   "metadata": {},
   "outputs": [],
   "source": [
    "#Function to compute even parity bit \n",
    "def compute_even_parity(data): \n",
    "    # Sum the data bits and take modulo 2. \n",
    "    # If sum is odd, parity bit is 1 (to make total even); if even, parity bit is 0. \n",
    "    return sum(data) % 2 \n",
    " \n",
    "# Original data bits (example) \n",
    "data = [1, 0, 1, 0, 1, 1, 0, 0] \n",
    "parity_bit = compute_even_parity(data) \n",
    "print(\"Original Data: \", data) \n",
    "print(\"Computed Parity Bit (Even):\", parity_bit) \n",
    " \n",
    "# Transmitted data: append parity bit to the data array \n",
    "transmitted_data = data + [parity_bit] \n",
    "print(\"\\nTransmitted Data (Data + Parity):\", transmitted_data) "
   ]
  },
  {
   "cell_type": "code",
   "execution_count": null,
   "id": "92cb73bb-065c-4586-ab31-9c7af9f04578",
   "metadata": {},
   "outputs": [],
   "source": [
    "# Excersise 2"
   ]
  },
  {
   "cell_type": "code",
   "execution_count": null,
   "id": "6736d482-1dbc-436a-96b3-884ffeb96f7d",
   "metadata": {},
   "outputs": [],
   "source": [
    "# Simulate an error: flip a bit in the transmitted data \n",
    "# For example, flip the bit at index 3 (0-indexed) \n",
    "error_index = 3 \n",
    "data_with_error = transmitted_data.copy() \n",
    "data_with_error[error_index] = 1 - data_with_error[error_index] \n",
    "print(\"\\nData with an Error Introduced at index\", error_index, \":\", \n",
    "data_with_error) \n",
    " \n",
    "# At the receiver, perform the parity check. \n",
    "# For even parity, the sum of all bits should be even. \n",
    "if sum(data_with_error) % 2 == 0: \n",
    "    print(\"\\nNo error detected (Parity Check Passed)\") \n",
    "else: \n",
    "    print(\"\\nError detected (Parity Check Failed)\")"
   ]
  },
  {
   "cell_type": "code",
   "execution_count": null,
   "id": "8ad17a4a-40a2-4bc1-929d-8edb73c6c603",
   "metadata": {},
   "outputs": [],
   "source": [
    "# 2d parity bit check - excersise \"3\""
   ]
  },
  {
   "cell_type": "code",
   "execution_count": null,
   "id": "3e5d1071-b5f4-46a0-b05a-2249f1dae7b8",
   "metadata": {},
   "outputs": [],
   "source": [
    "import numpy as np \n",
    "def compute_parity(mat): \n",
    "    # Returns (row_parity, col_parity) for even parity \n",
    "    return np.sum(mat, axis=1) % 2, np.sum(mat, axis=0) % 2 \n",
    "    \n",
    "    # Create a 4x4 data matrix \n",
    "data = np.array([ [1, 0, 1, 1], [0, 1, 0, 0], [1, 1, 1, 0], [0, 0, 1, 1] ]) \n",
    "print(\"Original Data:\\n\", data) \n",
    "# Compute original parity bits \n",
    "row_par, col_par = compute_parity(data) \n",
    "print(\"Row Parity:\", row_par) \n",
    "print(\"Column Parity:\", col_par) \n",
    "# Introduce an error by flipping the bit at row 2, column 1 (0-indexed)\n",
    "data_err = data.copy() \n",
    "data_err[2, 1] = 1 - data_err[2, 1] \n",
    "print(\"\\nData with error at (2, 1):\\n\", data_err) \n",
    "# Recompute parity bits after error \n",
    "new_row_par, new_col_par = compute_parity(data_err) \n",
    "print(\"New Row Parity:\", new_row_par) \n",
    "print(\"New Column Parity:\", new_col_par) \n",
    "# Detect and correct the error \n",
    "err_row = np.where(new_row_par != row_par)[0] \n",
    "err_col = np.where(new_col_par != col_par)[0] \n",
    "if err_row.size == 1 and err_col.size == 1: \n",
    "    error_location = (err_row[0], err_col[0]) \n",
    "    print(\"\\nError detected at:\", error_location) \n",
    "    # Correct the error by flipping the bit back \n",
    "    data_err[error_location] = 1 - data_err[error_location] \n",
    "    print(\"Corrected Data:\\n\", data_err) \n",
    "else: \n",
    "    print(\"No single-bit error detected or multiple errors occurred.\")"
   ]
  },
  {
   "cell_type": "code",
   "execution_count": null,
   "id": "8eeb29b1-512a-4dd7-a9ce-5fa61ccf78be",
   "metadata": {},
   "outputs": [],
   "source": [
    "# Checksum - Excersise \"4\""
   ]
  },
  {
   "cell_type": "code",
   "execution_count": null,
   "id": "25b1b19b-07c4-4880-a48d-ae26abd33c0e",
   "metadata": {},
   "outputs": [],
   "source": [
    "def ones_complement_sum(a, b, bit_size=16): \n",
    "    \"\"\"Perform one's complement addition of two numbers.\"\"\" \n",
    "    result = a + b \n",
    "    if result >= (1 << bit_size):  # If there's an overflow \n",
    "        result = (result + 1) & ((1 << bit_size) - 1)  # Wrap around carry \n",
    "    return result \n",
    " \n",
    "def calculate_checksum(data, bit_size=16): \n",
    "    \"\"\"Compute one's complement checksum for a list of integers.\"\"\" \n",
    "    checksum = 0 \n",
    "    for word in data: \n",
    "        checksum = ones_complement_sum(checksum, word, bit_size) \n",
    "    return ~checksum & ((1 << bit_size) - 1)  # One's complement \n",
    " \n",
    "def verify_checksum(data, received_checksum, bit_size=16): \n",
    "    \"\"\"Verify the checksum by adding it to the computed sum.\"\"\" \n",
    "    total = 0 \n",
    "    for word in data: \n",
    "        total = ones_complement_sum(total, word, bit_size) \n",
    "    total = ones_complement_sum(total, received_checksum, bit_size) \n",
    "    return total == (1 << bit_size) - 1  # Valid if all bits are 1 \n",
    " \n",
    "# Example Usage \n",
    "data = [0b1010101010101010, 0b1100110011001100, 0b1111000011110000]  # Example 16-bit words \n",
    "checksum = calculate_checksum(data) \n",
    "print(f\"Calculated Checksum: {bin(checksum)}\") \n",
    " \n",
    "# Verification \n",
    "is_valid = verify_checksum(data, checksum) \n",
    "print(\"Checksum is valid\" if is_valid else \"Checksum is invalid\") "
   ]
  },
  {
   "cell_type": "code",
   "execution_count": null,
   "id": "f20b1392-0a15-4060-b9fc-acf557e7bf9b",
   "metadata": {},
   "outputs": [],
   "source": [
    "# MAP ALOHA - Excersise \"5\""
   ]
  },
  {
   "cell_type": "code",
   "execution_count": null,
   "id": "07ffbd67-1b35-4a31-96e6-a179eb617fd6",
   "metadata": {},
   "outputs": [],
   "source": [
    "pip install matplotlib"
   ]
  },
  {
   "cell_type": "code",
   "execution_count": null,
   "id": "97a6e2e9-8ee6-4e95-bc53-d2f738724a29",
   "metadata": {},
   "outputs": [],
   "source": [
    "import random \n",
    "import matplotlib.pyplot as plt \n",
    "import numpy as np \n",
    " \n",
    "def simulate_slotted_aloha(n_nodes, p, n_slots): \n",
    "    successes = 0 \n",
    "    for _ in range(n_slots): \n",
    "        # Each node transmits with probability p in a slot \n",
    "        transmissions = sum(1 for _ in range(n_nodes) if random.random() < p) \n",
    "        if transmissions == 1: \n",
    "            successes += 1 \n",
    "    efficiency = successes / n_slots \n",
    "    return efficiency \n",
    " \n",
    "n_nodes = 50 \n",
    "ps = np.linspace(0, 1, 50) \n",
    "efficiencies = [simulate_slotted_aloha(n_nodes, p, 10000) for p in ps] \n",
    " \n",
    "plt.plot(ps, efficiencies, marker='o') \n",
    "plt.xlabel('Transmission Probability') \n",
    "plt.ylabel('Efficiency') \n",
    "plt.title('Slotted ALOHA Efficiency Simulation') \n",
    "plt.show()"
   ]
  }
 ],
 "metadata": {
  "kernelspec": {
   "display_name": "Python 3 (ipykernel)",
   "language": "python",
   "name": "python3"
  },
  "language_info": {
   "codemirror_mode": {
    "name": "ipython",
    "version": 3
   },
   "file_extension": ".py",
   "mimetype": "text/x-python",
   "name": "python",
   "nbconvert_exporter": "python",
   "pygments_lexer": "ipython3",
   "version": "3.12.4"
  }
 },
 "nbformat": 4,
 "nbformat_minor": 5
}
