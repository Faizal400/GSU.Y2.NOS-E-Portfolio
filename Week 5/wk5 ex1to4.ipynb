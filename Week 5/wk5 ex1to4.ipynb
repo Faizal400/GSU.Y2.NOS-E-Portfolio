{
 "cells": [
  {
   "cell_type": "code",
   "execution_count": null,
   "id": "9e363f1f-bd0f-4752-8efc-34e3342e0bdc",
   "metadata": {},
   "outputs": [],
   "source": [
    "# Ex 1"
   ]
  },
  {
   "cell_type": "code",
   "execution_count": null,
   "id": "82200b82-c4cf-4f51-97aa-f5da23e7e4de",
   "metadata": {},
   "outputs": [],
   "source": [
    "import socket \n",
    "import datetime\n",
    "client_socket = socket.socket(socket.AF_INET, socket.SOCK_STREAM) \n",
    "client_socket.connect(('localhost', 65432)) \n",
    "\n",
    "start = datetime.datetime.now()\n",
    "message = input(\"Enter a message: \") \n",
    "client_socket.sendall(message.encode()) \n",
    "response = client_socket.recv(1024) \n",
    "print(f\"Server response: {response.decode()}\") \n",
    "end = datetime.datetime.now()\n",
    "\n",
    "time_taken = end - start\n",
    "print(f\"Time taken to receive and send data: {time_taken}\")\n",
    "client_socket.close() "
   ]
  },
  {
   "cell_type": "code",
   "execution_count": null,
   "id": "a0d78da4-550d-47a6-83d3-7bfca538f84c",
   "metadata": {},
   "outputs": [],
   "source": [
    "# Ex 2"
   ]
  },
  {
   "cell_type": "code",
   "execution_count": null,
   "id": "d7dd93eb-ceef-4b81-b9aa-cfb668b7289f",
   "metadata": {},
   "outputs": [],
   "source": [
    "import socket \n",
    "import datetime\n",
    "\n",
    "client_socket = socket.socket(socket.AF_INET, socket.SOCK_DGRAM)\n",
    "server_address = ('localhost', 65432)\n",
    "start = datetime.datetime.now()\n",
    "message = input(\"Enter a message: \") \n",
    "client_socket.sendto(message.encode(), server_address)\n",
    "response, server = client_socket.recvfrom(1024)\n",
    "print(f\"Server response: {response.decode()}\") \n",
    "end = datetime.datetime.now()\n",
    "\n",
    "time_taken = end - start\n",
    "print(f\"Time taken to receive and send data: {time_taken}\")\n",
    "client_socket.close() "
   ]
  },
  {
   "cell_type": "code",
   "execution_count": null,
   "id": "2b820121-69ba-4fba-9678-93319635a13d",
   "metadata": {},
   "outputs": [],
   "source": [
    "# Ex 3"
   ]
  },
  {
   "cell_type": "code",
   "execution_count": null,
   "id": "8bcf035c-289d-417d-9554-21fe3ccbc4b3",
   "metadata": {},
   "outputs": [],
   "source": [
    "import socket \n",
    "import datetime\n",
    "client_socket = socket.socket(socket.AF_INET, socket.SOCK_STREAM) \n",
    "client_socket.connect(('localhost', 65432)) \n",
    "start = datetime.datetime.now()\n",
    "message = input(\"Enter a message: \") \n",
    "client_socket.sendall(message.encode()) \n",
    "response = client_socket.recv(1024) \n",
    "print(f\"Server response: {response.decode()}\") \n",
    "\n",
    "with open('file_to_send.txt', 'rb') as f: \n",
    "    client_socket.sendfile(f) \n",
    "\n",
    "end = datetime.datetime.now()\n",
    "time_taken = end - start\n",
    "print(f\"Time taken to receive and send data: {time_taken}\")\n",
    "\n",
    "client_socket.close() "
   ]
  },
  {
   "cell_type": "code",
   "execution_count": null,
   "id": "fda1a235-311d-4853-8057-c3429c4982bb",
   "metadata": {},
   "outputs": [],
   "source": [
    "# Ex 4"
   ]
  },
  {
   "cell_type": "code",
   "execution_count": null,
   "id": "a941e039-a934-4a5d-b717-c3ccdb3040f1",
   "metadata": {},
   "outputs": [],
   "source": [
    "import socket\n",
    "import datetime\n",
    "\n",
    "client_socket = socket.socket(socket.AF_INET, socket.SOCK_DGRAM)\n",
    "server_address = ('localhost', 65432)\n",
    "start = datetime.datetime.now()\n",
    "message = input(\"Enter a message: \")\n",
    "client_socket.sendto(message.encode(), server_address)\n",
    "response, server = client_socket.recvfrom(1024)\n",
    "print(f\"Server response: {response.decode()}\")\n",
    "\n",
    "with open('UDP_file_to_send.txt', 'rb') as f:\n",
    "    while True:\n",
    "        file_data = f.read(1024) \n",
    "        if not file_data: \n",
    "            client_socket.sendto(b'', server_address)\n",
    "            break\n",
    "        client_socket.sendto(file_data, server_address) \n",
    "end = datetime.datetime.now()\n",
    "time_taken = end - start\n",
    "print(f\"Time taken to receive and send data: {time_taken}\")\n",
    "\n",
    "client_socket.close()"
   ]
  }
 ],
 "metadata": {
  "kernelspec": {
   "display_name": "Python 3 (ipykernel)",
   "language": "python",
   "name": "python3"
  },
  "language_info": {
   "codemirror_mode": {
    "name": "ipython",
    "version": 3
   },
   "file_extension": ".py",
   "mimetype": "text/x-python",
   "name": "python",
   "nbconvert_exporter": "python",
   "pygments_lexer": "ipython3",
   "version": "3.12.4"
  }
 },
 "nbformat": 4,
 "nbformat_minor": 5
}
