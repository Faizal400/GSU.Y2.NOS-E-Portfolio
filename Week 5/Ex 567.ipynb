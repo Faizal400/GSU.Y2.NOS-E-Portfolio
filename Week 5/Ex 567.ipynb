{
 "cells": [
  {
   "cell_type": "code",
   "execution_count": null,
   "id": "e76dc606-b28e-4a02-89be-d12763be8b20",
   "metadata": {},
   "outputs": [],
   "source": [
    "# Ex5"
   ]
  },
  {
   "cell_type": "code",
   "execution_count": null,
   "id": "9f15221a-79b7-461b-bda4-3b72179cc188",
   "metadata": {},
   "outputs": [],
   "source": [
    "import socket\n",
    "import threading\n",
    "\n",
    "def clients(client_socket, client_address):\n",
    "    data = client_socket.recv(1024)\n",
    "    client_socket.sendall(b\"ACK: \" + data) \n",
    "\n",
    "     # ... (Server setup code) \n",
    "    file = f\"{client_address}received_file.txt\"\n",
    "    with open(file, 'wb') as f: \n",
    "        while True: \n",
    "            data = client_socket.recv(1024) \n",
    "            if not data: \n",
    "                break \n",
    "            f.write(data) \n",
    "    print(f\"File saved as{file}\") \n",
    "    \n",
    "    client_socket.close()\n",
    "    \n",
    "def server():\n",
    "    server_socket = socket.socket(socket.AF_INET, socket.SOCK_STREAM) \n",
    "    server_socket.bind(('localhost', 65433)) \n",
    "    server_socket.listen(3)  # Allow 1 pending connection \n",
    "    print(\"TCP Server is listening...\") \n",
    "\n",
    "    while True: \n",
    "        client_socket, client_address = server_socket.accept() \n",
    "        print(f\"Client address connected: {client_address}\") \n",
    "        Client_Thread = threading.Thread(target=clients, args=(client_socket, client_address))\n",
    "        Client_Thread.daemon = True \n",
    "        Client_Thread.start()\n",
    "server()"
   ]
  },
  {
   "cell_type": "code",
   "execution_count": null,
   "id": "718a9708-055d-4072-94d7-a4c4dae52a71",
   "metadata": {},
   "outputs": [],
   "source": [
    "# Ex6+7"
   ]
  },
  {
   "cell_type": "code",
   "execution_count": null,
   "id": "82cf478b-b37e-44e9-a949-42cdaa3829e8",
   "metadata": {},
   "outputs": [],
   "source": [
    "import socket\n",
    "import threading\n",
    "\n",
    "def decipher_caesarCipher(message, key):\n",
    "    new_message = []\n",
    "    for letter in message:\n",
    "        character = ord(letter)\n",
    "        character = character - key\n",
    "        new_message.append(chr(character))\n",
    "    return \"\".join(new_message)\n",
    "\n",
    "def clients(client_socket, client_address):\n",
    "    data = client_socket.recv(1024)\n",
    "    message = data.decode('utf-8')\n",
    "    print(f\"got data from {client_address}: {message}\")\n",
    "\n",
    "    try:\n",
    "        user_info, encrypted_message, key_str = message.split(\":\")\n",
    "        key = int(key_str) \n",
    "        decrypted_message = decipher_caesarCipher(encrypted_message.strip(), key)\n",
    "        print(f\"message decrypted, sender: {user_info.strip()}: {decrypted_message}\")\n",
    "    except ValueError:\n",
    "        print(\"Invalid fomrat\")\n",
    "        \n",
    "    client_socket.close()\n",
    "\n",
    "\n",
    "def server():\n",
    "    server_socket = socket.socket(socket.AF_INET, socket.SOCK_STREAM)\n",
    "    server_socket.bind(('localhost', 65437))\n",
    "    server_socket.listen(2)\n",
    "    print(\"TCP Server is listening...\")\n",
    "\n",
    "    while True:\n",
    "        client_socket, client_address = server_socket.accept() \n",
    "        print(f\"Client address connected: {client_address}\")\n",
    "        \n",
    "        client_thread = threading.Thread(target=clients, args=(client_socket, client_address))\n",
    "        client_thread.daemon = True  \n",
    "        client_thread.start()  \n",
    "server()"
   ]
  }
 ],
 "metadata": {
  "kernelspec": {
   "display_name": "Python 3 (ipykernel)",
   "language": "python",
   "name": "python3"
  },
  "language_info": {
   "codemirror_mode": {
    "name": "ipython",
    "version": 3
   },
   "file_extension": ".py",
   "mimetype": "text/x-python",
   "name": "python",
   "nbconvert_exporter": "python",
   "pygments_lexer": "ipython3",
   "version": "3.12.4"
  }
 },
 "nbformat": 4,
 "nbformat_minor": 5
}
