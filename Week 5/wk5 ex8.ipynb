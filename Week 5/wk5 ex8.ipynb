{
 "cells": [
  {
   "cell_type": "code",
   "execution_count": null,
   "id": "3865fb01-f49b-4840-a3ae-da8468ed3ea7",
   "metadata": {},
   "outputs": [],
   "source": [
    "import socket\n",
    "import threading\n",
    "\n",
    "def getclientsdata(client_socket, client_address):\n",
    "    data = client_socket.recv(1024)\n",
    "    print(f\"Received data from {client_address}: {data.decode('utf-8')}\")\n",
    "    client_socket.close()\n",
    "\n",
    "\n",
    "def server():\n",
    "    server_socket = socket.socket(socket.AF_INET, socket.SOCK_STREAM)\n",
    "    server_socket.bind(('localhost', 65438))\n",
    "    server_socket.listen(2)\n",
    "    print(\"TCP Server is listening...\")\n",
    "\n",
    "    while True:\n",
    "        client_socket, client_address = server_socket.accept() \n",
    "        print(f\"Client address connected: {client_address}\")\n",
    "        \n",
    "        client_thread = threading.Thread(target=getclientsdata, args=(client_socket, client_address))\n",
    "        client_thread.daemon = True  \n",
    "        client_thread.start()  \n",
    "server()"
   ]
  }
 ],
 "metadata": {
  "kernelspec": {
   "display_name": "Python 3 (ipykernel)",
   "language": "python",
   "name": "python3"
  },
  "language_info": {
   "codemirror_mode": {
    "name": "ipython",
    "version": 3
   },
   "file_extension": ".py",
   "mimetype": "text/x-python",
   "name": "python",
   "nbconvert_exporter": "python",
   "pygments_lexer": "ipython3",
   "version": "3.12.4"
  }
 },
 "nbformat": 4,
 "nbformat_minor": 5
}
