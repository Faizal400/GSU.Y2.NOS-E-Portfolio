{
 "cells": [
  {
   "cell_type": "code",
   "execution_count": null,
   "id": "57173894-071c-4372-93ec-289c643ba8b4",
   "metadata": {},
   "outputs": [],
   "source": [
    "pip install socket"
   ]
  },
  {
   "cell_type": "code",
   "execution_count": null,
   "id": "92adec27-dc20-48cf-b6f2-c47ec98b1a56",
   "metadata": {},
   "outputs": [],
   "source": [
    "# Excersise 1 - get ip for 3 websites"
   ]
  },
  {
   "cell_type": "code",
   "execution_count": 5,
   "id": "aec8eded-e6aa-4212-be6a-d79a9f152b8e",
   "metadata": {},
   "outputs": [
    {
     "name": "stdin",
     "output_type": "stream",
     "text": [
      "Enter the website URL (without 'https://'):  youtube.com\n"
     ]
    },
    {
     "name": "stdout",
     "output_type": "stream",
     "text": [
      "The IP address of youtube.com is 142.250.178.14\n"
     ]
    },
    {
     "name": "stdin",
     "output_type": "stream",
     "text": [
      "Enter the website URL (without 'https://'):  google.com\n"
     ]
    },
    {
     "name": "stdout",
     "output_type": "stream",
     "text": [
      "The IP address of google.com is 142.250.179.238\n"
     ]
    },
    {
     "name": "stdin",
     "output_type": "stream",
     "text": [
      "Enter the website URL (without 'https://'):  github.com\n"
     ]
    },
    {
     "name": "stdout",
     "output_type": "stream",
     "text": [
      "The IP address of github.com is 20.26.156.215\n"
     ]
    }
   ],
   "source": [
    "import socket\n",
    "def get_ip_address(website_url):\n",
    "    try:\n",
    "        ip_address = socket.gethostbyname(website_url)\n",
    "        print(f\"The IP address of {website_url} is {ip_address}\")\n",
    "    except socket.gaierror:\n",
    "        print(f\"Unable to get the IP address for {website_url}\")\n",
    "# Example usage\n",
    "for i in range(3):\n",
    "    website = input(\"Enter the website URL (without 'https://'): \")\n",
    "    get_ip_address(website)"
   ]
  },
  {
   "cell_type": "code",
   "execution_count": null,
   "id": "3d304422-84f4-4e21-9f31-1e5233625985",
   "metadata": {},
   "outputs": [],
   "source": [
    "# Excersise 2, 3, 4 [trace] [analyse trace] [potential bottlenecks]"
   ]
  },
  {
   "cell_type": "code",
   "execution_count": 1,
   "id": "1b3bd010-711b-4976-8540-d387265064d7",
   "metadata": {},
   "outputs": [
    {
     "name": "stdin",
     "output_type": "stream",
     "text": [
      "Enter the website or IP address:  20.26.156.215\n"
     ]
    },
    {
     "name": "stdout",
     "output_type": "stream",
     "text": [
      "\n",
      "Tracing route to 20.26.156.215 over a maximum of 30 hops\n",
      "\n",
      "  1     1 ms     1 ms     1 ms  Community11597.communityfibre.co.uk [192.168.1.1] \n",
      "  2     5 ms     3 ms     3 ms  45.81.74.1 \n",
      "  3    52 ms     5 ms     4 ms  lag-3.agg-rr1.pat.lon.network.as201838.net [94.247.86.202] \n",
      "  4     6 ms     4 ms     4 ms  lag-8.agg-rr1.pat.lon.network.as201838.net [94.177.138.180] \n",
      "  5     5 ms     4 ms     4 ms  100.127.2.38 \n",
      "  6     *        *        *     Request timed out.\n",
      "  7     *        *        *     Request timed out.\n",
      "  8     5 ms     4 ms     3 ms  100.127.64.47 \n",
      "  9     *        *        *     Request timed out.\n",
      " 10     4 ms     3 ms     4 ms  gi0-2-7.ar01.thn.lon.eng.communityfibre.co.uk [195.66.226.144] \n",
      " 11     5 ms     4 ms     5 ms  igblmdistc7504.uk.msft.net [195.66.224.140] \n",
      " 12     8 ms     5 ms     5 ms  51.10.2.130 \n",
      " 13     *        *        *     Request timed out.\n",
      " 14     *        7 ms     5 ms  51.10.27.18 \n",
      " 15     8 ms     8 ms     7 ms  51.10.14.156 \n",
      " 16     *        *        *     Request timed out.\n",
      " 17     *        *        *     Request timed out.\n",
      " 18     *        *        *     Request timed out.\n",
      " 19     *        *        *     Request timed out.\n",
      " 20     5 ms     4 ms     4 ms  20.26.156.215 \n",
      "\n",
      "Trace complete.\n",
      "\n"
     ]
    }
   ],
   "source": [
    "import subprocess\n",
    "def tracert(domain):\n",
    "    try:\n",
    "        result = subprocess.run([\"tracert\", domain], capture_output=True, text=True)\n",
    "        print(result.stdout)\n",
    "    except FileNotFoundError:\n",
    "        print(\"tracert command not found. Make sure it's available.\")\n",
    "    except Exception as e: # Catching general exceptions for now\n",
    "        print(f\"An error occurred: {e}\")\n",
    "\n",
    "domain = input(\"Enter the website or IP address: \")\n",
    "tracert(domain)"
   ]
  },
  {
   "cell_type": "code",
   "execution_count": null,
   "id": "cd00c923-780d-413e-abca-457bffd85a56",
   "metadata": {},
   "outputs": [],
   "source": [
    "# github.com\n",
    "# There's a slight spike at hop 3's latency indicating a potential bottelneck\n",
    "# There isn't realy any slow points. but the slowest point is hop 3."
   ]
  },
  {
   "cell_type": "code",
   "execution_count": 3,
   "id": "9d95f8f3-a01a-4ef9-9ed1-7130bbbac912",
   "metadata": {},
   "outputs": [
    {
     "name": "stdin",
     "output_type": "stream",
     "text": [
      "Enter domain or IP: 142.250.178.14\n"
     ]
    },
    {
     "name": "stdout",
     "output_type": "stream",
     "text": [
      "\n",
      "Tracing route to lhr48s27-in-f14.1e100.net [142.250.178.14]\n",
      "over a maximum of 30 hops:\n",
      "\n",
      "  1     3 ms     2 ms     2 ms  Community11597.communityfibre.co.uk [192.168.1.1] \n",
      "  2     5 ms     3 ms     3 ms  45.81.74.1 \n",
      "  3     6 ms     4 ms     4 ms  lag-3.agg-rr1.pat.lon.network.as201838.net [94.247.86.202] \n",
      "  4     6 ms     4 ms     4 ms  lag-8.agg-rr1.pat.lon.network.as201838.net [94.177.138.180] \n",
      "  5     6 ms     4 ms     4 ms  100.127.2.38 \n",
      "  6     *        *        *     Request timed out.\n",
      "  7     *        *        *     Request timed out.\n",
      "  8     6 ms     *        6 ms  100.127.64.47 \n",
      "  9     *        *        *     Request timed out.\n",
      " 10     6 ms     4 ms     4 ms  46.102.170.12 \n",
      " 11     *        *        *     Request timed out.\n",
      " 12     6 ms     5 ms     5 ms  216.239.54.127 \n",
      " 13     6 ms     4 ms     4 ms  142.250.215.127 \n",
      " 14     6 ms     4 ms     4 ms  lhr48s27-in-f14.1e100.net [142.250.178.14] \n",
      "\n",
      "Trace complete.\n",
      "\n"
     ]
    }
   ],
   "source": [
    "domain2 = input(\"Enter domain or IP:\")\n",
    "tracert(domain2)"
   ]
  },
  {
   "cell_type": "code",
   "execution_count": null,
   "id": "625b67fa-bed1-4ef4-b153-467f79fac23f",
   "metadata": {},
   "outputs": [],
   "source": [
    "# youtube.com\n",
    "# There are no bottlenecks.\n",
    "# No slow points"
   ]
  },
  {
   "cell_type": "code",
   "execution_count": 4,
   "id": "32559e4e-8322-4307-9f38-972783c8106c",
   "metadata": {},
   "outputs": [
    {
     "name": "stdin",
     "output_type": "stream",
     "text": [
      "Enter domain or IP:  142.250.179.238\n"
     ]
    },
    {
     "name": "stdout",
     "output_type": "stream",
     "text": [
      "\n",
      "Tracing route to lhr25s31-in-f14.1e100.net [142.250.179.238]\n",
      "over a maximum of 30 hops:\n",
      "\n",
      "  1     2 ms     2 ms     1 ms  Community11597.communityfibre.co.uk [192.168.1.1] \n",
      "  2     5 ms     4 ms     3 ms  45.81.74.1 \n",
      "  3    11 ms     4 ms     4 ms  lag-3.agg-rr1.pat.lon.network.as201838.net [94.247.86.202] \n",
      "  4     5 ms     3 ms     4 ms  lag-8.agg-rr1.pat.lon.network.as201838.net [94.177.138.180] \n",
      "  5     5 ms     6 ms     4 ms  100.127.2.38 \n",
      "  6     *        *        *     Request timed out.\n",
      "  7     *        *        *     Request timed out.\n",
      "  8     5 ms     *        *     100.127.64.47 \n",
      "  9     *        *        *     Request timed out.\n",
      " 10     5 ms     4 ms     4 ms  46.102.170.12 \n",
      " 11     *        *        *     Request timed out.\n",
      " 12     6 ms     4 ms     4 ms  209.85.255.77 \n",
      " 13     7 ms     4 ms     4 ms  142.251.54.27 \n",
      " 14     6 ms     4 ms     5 ms  lhr25s31-in-f14.1e100.net [142.250.179.238] \n",
      "\n",
      "Trace complete.\n",
      "\n"
     ]
    }
   ],
   "source": [
    "domain3 = input(\"Enter domain or IP: \")\n",
    "tracert(domain3)"
   ]
  },
  {
   "cell_type": "code",
   "execution_count": null,
   "id": "90ea5f76-f092-4d6b-89b6-31bf3e6feb52",
   "metadata": {},
   "outputs": [],
   "source": [
    "# google.com\n",
    "# No bottlenecks\n",
    "# hop 3 is an anomally, being the a slow point."
   ]
  }
 ],
 "metadata": {
  "kernelspec": {
   "display_name": "Python 3 (ipykernel)",
   "language": "python",
   "name": "python3"
  },
  "language_info": {
   "codemirror_mode": {
    "name": "ipython",
    "version": 3
   },
   "file_extension": ".py",
   "mimetype": "text/x-python",
   "name": "python",
   "nbconvert_exporter": "python",
   "pygments_lexer": "ipython3",
   "version": "3.12.4"
  }
 },
 "nbformat": 4,
 "nbformat_minor": 5
}
