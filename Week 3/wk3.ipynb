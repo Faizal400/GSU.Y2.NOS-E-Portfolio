{
 "cells": [
  {
   "cell_type": "code",
   "execution_count": null,
   "id": "57173894-071c-4372-93ec-289c643ba8b4",
   "metadata": {},
   "outputs": [],
   "source": [
    "pip install socket"
   ]
  },
  {
   "cell_type": "code",
   "execution_count": null,
   "id": "92adec27-dc20-48cf-b6f2-c47ec98b1a56",
   "metadata": {},
   "outputs": [],
   "source": [
    "# Excersise 1 - get ip for 3 websites"
   ]
  },
  {
   "cell_type": "code",
   "execution_count": 5,
   "id": "aec8eded-e6aa-4212-be6a-d79a9f152b8e",
   "metadata": {},
   "outputs": [
    {
     "name": "stdin",
     "output_type": "stream",
     "text": [
      "Enter the website URL (without 'https://'):  youtube.com\n"
     ]
    },
    {
     "name": "stdout",
     "output_type": "stream",
     "text": [
      "The IP address of youtube.com is 142.250.178.14\n"
     ]
    },
    {
     "name": "stdin",
     "output_type": "stream",
     "text": [
      "Enter the website URL (without 'https://'):  google.com\n"
     ]
    },
    {
     "name": "stdout",
     "output_type": "stream",
     "text": [
      "The IP address of google.com is 142.250.179.238\n"
     ]
    },
    {
     "name": "stdin",
     "output_type": "stream",
     "text": [
      "Enter the website URL (without 'https://'):  github.com\n"
     ]
    },
    {
     "name": "stdout",
     "output_type": "stream",
     "text": [
      "The IP address of github.com is 20.26.156.215\n"
     ]
    }
   ],
   "source": [
    "import socket\n",
    "def get_ip_address(website_url):\n",
    "    try:\n",
    "        ip_address = socket.gethostbyname(website_url)\n",
    "        print(f\"The IP address of {website_url} is {ip_address}\")\n",
    "    except socket.gaierror:\n",
    "        print(f\"Unable to get the IP address for {website_url}\")\n",
    "# Example usage\n",
    "for i in range(3):\n",
    "    website = input(\"Enter the website URL (without 'https://'): \")\n",
    "    get_ip_address(website)"
   ]
  },
  {
   "cell_type": "code",
   "execution_count": null,
   "id": "3d304422-84f4-4e21-9f31-1e5233625985",
   "metadata": {},
   "outputs": [],
   "source": [
    "# Excersise 2, 3, 4 [trace] [analyse trace] [potential bottlenecks]"
   ]
  },
  {
   "cell_type": "code",
   "execution_count": null,
   "id": "1b3bd010-711b-4976-8540-d387265064d7",
   "metadata": {},
   "outputs": [
    {
     "name": "stdin",
     "output_type": "stream",
     "text": [
      "Enter the website or IP address:  20.26.156.215\n"
     ]
    }
   ],
   "source": [
    "import subprocess\n",
    "def tracert(domain):\n",
    "    try:\n",
    "        result = subprocess.run([\"tracert\", domain], capture_output=True, text=True)\n",
    "        print(result.stdout)\n",
    "    except FileNotFoundError:\n",
    "        print(\"tracert command not found. Make sure it's available.\")\n",
    "    except Exception as e: # Catching general exceptions for now\n",
    "        print(f\"An error occurred: {e}\")\n",
    "\n",
    "domain = input(\"Enter the website or IP address: \")\n",
    "tracert(domain)"
   ]
  }
 ],
 "metadata": {
  "kernelspec": {
   "display_name": "Python 3 (ipykernel)",
   "language": "python",
   "name": "python3"
  },
  "language_info": {
   "codemirror_mode": {
    "name": "ipython",
    "version": 3
   },
   "file_extension": ".py",
   "mimetype": "text/x-python",
   "name": "python",
   "nbconvert_exporter": "python",
   "pygments_lexer": "ipython3",
   "version": "3.12.4"
  }
 },
 "nbformat": 4,
 "nbformat_minor": 5
}
